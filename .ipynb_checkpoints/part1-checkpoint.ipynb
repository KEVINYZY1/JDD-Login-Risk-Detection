{
 "cells": [
  {
   "cell_type": "code",
   "execution_count": 1,
   "metadata": {
    "collapsed": true
   },
   "outputs": [],
   "source": [
    "import pandas as pd\n",
    "import numpy as np\n",
    "from IPython.display import display\n",
    "import gc"
   ]
  },
  {
   "cell_type": "code",
   "execution_count": 2,
   "metadata": {
    "collapsed": true
   },
   "outputs": [],
   "source": [
    "pd.set_option('display.max_columns', None)\n",
    "pd.set_option('display.max_rows', None)"
   ]
  },
  {
   "cell_type": "code",
   "execution_count": 3,
   "metadata": {
    "collapsed": true
   },
   "outputs": [],
   "source": [
    "trade = pd.read_csv(\"../v_trade.csv\")\n",
    "trade_test = pd.read_csv(\"../v_trade_test.csv\")\n",
    "login = pd.read_csv(\"../v_login.csv\")\n",
    "login_test = pd.read_csv(\"../v_login_test.csv\")"
   ]
  },
  {
   "cell_type": "code",
   "execution_count": 4,
   "metadata": {
    "collapsed": true
   },
   "outputs": [],
   "source": [
    "from sklearn.metrics import accuracy_score, roc_auc_score, fbeta_score\n",
    "from sklearn.ensemble import AdaBoostClassifier\n",
    "from sklearn.ensemble import RandomForestClassifier\n",
    "import lightgbm as lgb\n",
    "import xgboost as xgb"
   ]
  },
  {
   "cell_type": "code",
   "execution_count": 5,
   "metadata": {
    "collapsed": true
   },
   "outputs": [],
   "source": [
    "feature = pd.read_csv(\"1206_feature_a.csv\")"
   ]
  },
  {
   "cell_type": "code",
   "execution_count": 7,
   "metadata": {
    "collapsed": true
   },
   "outputs": [],
   "source": [
<<<<<<< HEAD
    "feature = feature.drop(['over'], axis=1)\n",
=======
    "feature = feature.drop(['over'], axis=1)"
   ]
  },
  {
   "cell_type": "code",
   "execution_count": 8,
   "metadata": {
    "collapsed": true
   },
   "outputs": [],
   "source": [
>>>>>>> d405891e2a1c8b7f1bda13012ca2b06ce2e520de
    "s_column = feature.columns[6:]"
   ]
  },
  {
   "cell_type": "code",
   "execution_count": 9,
   "metadata": {
    "collapsed": true
   },
   "outputs": [],
   "source": [
    "train_df = pd.merge(feature, trade[['row_name']], how='inner', on=['row_name'])\n",
    "test_df = pd.merge(feature, trade_test[['row_name']], how='inner', on=['row_name'])"
   ]
  },
  {
   "cell_type": "code",
   "execution_count": 10,
   "metadata": {},
   "outputs": [
    {
     "data": {
      "text/plain": [
       "(572, 737)"
      ]
     },
     "metadata": {},
     "output_type": "display_data"
    },
    {
     "data": {
      "text/plain": [
       "(423, 737)"
      ]
     },
     "metadata": {},
     "output_type": "display_data"
    },
    {
     "data": {
      "text/plain": [
       "(291, 737)"
      ]
     },
     "metadata": {},
     "output_type": "display_data"
    },
    {
     "data": {
      "text/plain": [
       "0.2674825174825175"
      ]
     },
     "metadata": {},
     "output_type": "display_data"
    },
    {
     "data": {
      "text/plain": [
       "0.15839243498817968"
      ]
     },
     "metadata": {},
     "output_type": "display_data"
    }
   ],
   "source": [
    "X_train = train_df[train_df.time <= '2015-04-30 00:00:00']\n",
    "X_val = train_df[train_df.time > '2015-04-30 00:00:00']\n",
    "display(X_train.shape)\n",
    "display(X_val.shape)\n",
    "display(test_df.shape)\n",
    "display(len(X_train[X_train.actual_label==1])/len(X_train))\n",
    "display(len(X_val[X_val.actual_label==1])/len(X_val))"
   ]
  },
  {
   "cell_type": "code",
   "execution_count": 11,
   "metadata": {},
   "outputs": [
    {
     "data": {
      "text/plain": [
       "pesudo_label1\n",
       "0    790\n",
       "1    205\n",
       "dtype: int64"
      ]
     },
     "metadata": {},
     "output_type": "display_data"
    },
    {
     "data": {
      "text/plain": [
       "pesudo_label2\n",
       "0    762\n",
       "1    205\n",
       "2     28\n",
       "dtype: int64"
      ]
     },
     "metadata": {},
     "output_type": "display_data"
    },
    {
     "data": {
      "text/plain": [
       "actual_label\n",
       "0    775\n",
       "1    220\n",
       "dtype: int64"
      ]
     },
     "metadata": {},
     "output_type": "display_data"
    }
   ],
   "source": [
    "display(train_df.groupby(['pesudo_label1']).size())\n",
    "display(train_df.groupby(['pesudo_label2']).size())\n",
    "display(train_df.groupby(['actual_label']).size())"
   ]
  },
  {
   "cell_type": "code",
   "execution_count": 12,
   "metadata": {
    "collapsed": true
   },
   "outputs": [],
   "source": [
    "def eval_fbeta(preds, dtrain):\n",
    "    return 'fbeta', 1-fbeta_score(dtrain.get_label(), preds >= 0.5, 0.1)"
   ]
  },
  {
   "cell_type": "code",
   "execution_count": 13,
   "metadata": {
    "collapsed": true
   },
   "outputs": [],
   "source": [
    "train2 = X_train[['row_name','pesudo_label1','pesudo_label2','actual_label']]\n",
    "val2 = X_val[['row_name','pesudo_label1','pesudo_label2','actual_label']]"
   ]
  },
  {
   "cell_type": "code",
   "execution_count": 14,
   "metadata": {},
   "outputs": [
    {
     "data": {
      "text/plain": [
       "27"
      ]
     },
     "execution_count": 14,
     "metadata": {},
     "output_type": "execute_result"
    }
   ],
   "source": [
    "clf3 = lgb.LGBMClassifier(boosting_type='dart', learning_rate=0.13, max_depth=12, n_estimators=950, colsample_bytree=0.85, \n",
    "                          min_split_gain=1.1, max_bin=730, reg_lambda=0.9, is_unbalance=True, random_state=400, subsample=0.9)\n",
    "clf3.fit(X_train[s_column], X_train.pesudo_label1, eval_metric=eval_fbeta)\n",
    "gc.collect()"
   ]
  },
  {
   "cell_type": "code",
   "execution_count": 15,
   "metadata": {},
   "outputs": [
    {
     "name": "stderr",
     "output_type": "stream",
     "text": [
      "/Users/admin/anaconda/lib/python3.6/site-packages/ipykernel_launcher.py:1: SettingWithCopyWarning: \n",
      "A value is trying to be set on a copy of a slice from a DataFrame.\n",
      "Try using .loc[row_indexer,col_indexer] = value instead\n",
      "\n",
      "See the caveats in the documentation: http://pandas.pydata.org/pandas-docs/stable/indexing.html#indexing-view-versus-copy\n",
      "  \"\"\"Entry point for launching an IPython kernel.\n",
      "/Users/admin/anaconda/lib/python3.6/site-packages/ipykernel_launcher.py:2: SettingWithCopyWarning: \n",
      "A value is trying to be set on a copy of a slice from a DataFrame.\n",
      "Try using .loc[row_indexer,col_indexer] = value instead\n",
      "\n",
      "See the caveats in the documentation: http://pandas.pydata.org/pandas-docs/stable/indexing.html#indexing-view-versus-copy\n",
      "  \n"
     ]
    }
   ],
   "source": [
    "train2['clf3_prob'] = clf3.predict_proba(X_train[s_column])[:,1]\n",
    "val2['clf3_prob'] = clf3.predict_proba(X_val[s_column])[:,1]"
   ]
  },
  {
   "cell_type": "code",
   "execution_count": 27,
   "metadata": {},
   "outputs": [
    {
     "data": {
      "text/plain": [
       "1.0"
      ]
     },
     "metadata": {},
     "output_type": "display_data"
    },
    {
     "data": {
      "text/plain": [
       "1.0"
      ]
     },
     "metadata": {},
     "output_type": "display_data"
    },
    {
     "name": "stdout",
     "output_type": "stream",
     "text": [
      "====\n"
     ]
    },
    {
     "data": {
      "text/plain": [
       "1.0"
      ]
     },
     "metadata": {},
     "output_type": "display_data"
    },
    {
     "data": {
      "text/plain": [
       "1.0"
      ]
     },
     "metadata": {},
     "output_type": "display_data"
    }
   ],
   "source": [
    "threshold = 0.9\n",
    "display(accuracy_score(train2[train2.clf3_prob>=threshold].pesudo_label1, train2[train2.clf3_prob>=threshold].clf3_prob>=threshold))\n",
    "display(accuracy_score(val2[val2.clf3_prob>=threshold].pesudo_label1, val2[val2.clf3_prob>=threshold].clf3_prob>=threshold))\n",
    "print(\"====\")\n",
    "display(accuracy_score(train2[train2.clf3_prob>=threshold].actual_label, train2[train2.clf3_prob>=threshold].clf3_prob>=threshold))\n",
    "display(accuracy_score(val2[val2.clf3_prob>=threshold].actual_label, val2[val2.clf3_prob>=threshold].clf3_prob>=threshold))"
   ]
  },
  {
   "cell_type": "code",
   "execution_count": 28,
   "metadata": {},
   "outputs": [
    {
     "data": {
      "text/plain": [
       "(4, 5)"
      ]
     },
     "execution_count": 28,
     "metadata": {},
     "output_type": "execute_result"
    }
   ],
   "source": [
    "val2[val2.clf3_prob>=threshold].shape"
   ]
  },
  {
   "cell_type": "code",
   "execution_count": 29,
   "metadata": {},
   "outputs": [
    {
     "data": {
      "text/plain": [
       "46"
      ]
     },
     "execution_count": 29,
     "metadata": {},
     "output_type": "execute_result"
    }
   ],
   "source": [
    "clf3a = lgb.LGBMClassifier(boosting_type='dart', learning_rate=0.13, max_depth=14, n_estimators=1750, colsample_bytree=0.85, \n",
    "                          min_split_gain=1.1, max_bin=730, reg_lambda=0.9, is_unbalance=True, random_state=400, subsample=0.9)\n",
    "clf3a.fit(train_df[s_column], train_df.pesudo_label1, eval_metric=eval_fbeta)\n",
    "gc.collect()"
   ]
  },
  {
   "cell_type": "code",
<<<<<<< HEAD
=======
   "execution_count": 30,
   "metadata": {
    "collapsed": true
   },
   "outputs": [],
   "source": [
    "test2 = test_df[['row_name']]"
   ]
  },
  {
   "cell_type": "code",
>>>>>>> d405891e2a1c8b7f1bda13012ca2b06ce2e520de
   "execution_count": 31,
   "metadata": {},
   "outputs": [
    {
     "name": "stderr",
     "output_type": "stream",
     "text": [
      "/Users/admin/anaconda/lib/python3.6/site-packages/ipykernel_launcher.py:1: SettingWithCopyWarning: \n",
      "A value is trying to be set on a copy of a slice from a DataFrame.\n",
      "Try using .loc[row_indexer,col_indexer] = value instead\n",
      "\n",
      "See the caveats in the documentation: http://pandas.pydata.org/pandas-docs/stable/indexing.html#indexing-view-versus-copy\n",
      "  \"\"\"Entry point for launching an IPython kernel.\n"
     ]
    }
   ],
   "source": [
<<<<<<< HEAD
    "test2 = test_df[['row_name']]\n",
=======
>>>>>>> d405891e2a1c8b7f1bda13012ca2b06ce2e520de
    "test2['clf3a_prob'] = clf3a.predict_proba(test_df[s_column])[:,1]"
   ]
  },
  {
   "cell_type": "code",
   "execution_count": 34,
   "metadata": {},
   "outputs": [
    {
     "data": {
      "text/plain": [
       "(42, 2)"
      ]
     },
     "execution_count": 34,
     "metadata": {},
     "output_type": "execute_result"
    }
   ],
   "source": [
    "test2[test2.clf3a_prob >= 0.9].shape"
   ]
  },
  {
   "cell_type": "code",
   "execution_count": 35,
   "metadata": {
    "collapsed": true
   },
   "outputs": [],
   "source": [
    "s1_1203 = pd.DataFrame(test2[test2.clf3a_prob >= 0.9]['row_name'])\n",
    "s1_1203['label'] = 1\n",
    "s1_1203 = pd.merge(trade_test, s1_1203, how='left', on='row_name')\n",
    "s1_1203 = s1_1203.fillna(0)\n",
    "s1_1203.label = s1_1203.label.astype(int)\n",
    "s1_1203[['rowkey','label']].to_csv(\"a.csv\",header=None,index=None)"
   ]
  },
  {
   "cell_type": "code",
   "execution_count": null,
   "metadata": {
    "collapsed": true
   },
   "outputs": [],
   "source": []
  }
 ],
 "metadata": {
  "kernelspec": {
   "display_name": "Python 3",
   "language": "python",
   "name": "python3"
  },
  "language_info": {
   "codemirror_mode": {
    "name": "ipython",
    "version": 3
   },
   "file_extension": ".py",
   "mimetype": "text/x-python",
   "name": "python",
   "nbconvert_exporter": "python",
   "pygments_lexer": "ipython3",
   "version": "3.6.1"
  }
 },
 "nbformat": 4,
 "nbformat_minor": 2
}
